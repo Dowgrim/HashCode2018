{
 "cells": [
  {
   "cell_type": "code",
   "execution_count": 39,
   "metadata": {},
   "outputs": [],
   "source": [
    "import scipy\n",
    "import numpy as np"
   ]
  },
  {
   "cell_type": "code",
   "execution_count": 23,
   "metadata": {},
   "outputs": [],
   "source": [
    "with open(\"a_example.in\") as f:\n",
    "    content = f.readlines()"
   ]
  },
  {
   "cell_type": "code",
   "execution_count": 22,
   "metadata": {},
   "outputs": [
    {
     "data": {
      "text/plain": [
       "['3 4 2 3 2 10\\n', '0 0 1 3 2 9\\n', '1 2 1 0 0 9\\n', '2 0 2 2 0 9\\n']"
      ]
     },
     "execution_count": 22,
     "metadata": {},
     "output_type": "execute_result"
    }
   ],
   "source": [
    "content"
   ]
  },
  {
   "cell_type": "code",
   "execution_count": null,
   "metadata": {},
   "outputs": [],
   "source": []
  },
  {
   "cell_type": "code",
   "execution_count": null,
   "metadata": {},
   "outputs": [],
   "source": []
  },
  {
   "cell_type": "code",
   "execution_count": null,
   "metadata": {},
   "outputs": [],
   "source": []
  },
  {
   "cell_type": "code",
   "execution_count": 17,
   "metadata": {},
   "outputs": [],
   "source": [
    "rides = []\n",
    "with open('a_example.in') as file:\n",
    "    rows, columns, car_number, ride_number, bonus_value, steps = [int(i) for i in file.readline().split(' ')]\n",
    "    number = 0\n",
    "    for line in file.readlines():\n",
    "        startX, startY, endX, endY, earliest, latest = [int(i) for i in line.split(' ')]\n",
    "        rides.append(RideRequest(startX, startY, endX, endY,earliest,latest, number) )\n",
    "        number += 1\n",
    "    cars = []\n",
    "    number = 1\n",
    "    for i in range(car_number):\n",
    "        cars.append(Car(number))\n",
    "        number += 1"
   ]
  },
  {
   "cell_type": "code",
   "execution_count": 18,
   "metadata": {},
   "outputs": [
    {
     "data": {
      "text/plain": [
       "0"
      ]
     },
     "execution_count": 18,
     "metadata": {},
     "output_type": "execute_result"
    }
   ],
   "source": [
    "rides[0].startX"
   ]
  },
  {
   "cell_type": "code",
   "execution_count": 58,
   "metadata": {},
   "outputs": [],
   "source": [
    "import sys\n",
    "\n",
    "class Timestamp :\n",
    "    def __init__(self, x, y, t):\n",
    "        self.x = x\n",
    "        self.y = y\n",
    "        self.t = t\n",
    "\n",
    "class RideRequest:\n",
    "    def __init__(self, startX, startY, endX, endY, earliest, latest, number):\n",
    "        self.startX = startX\n",
    "        self.startY = startY\n",
    "        self.endX = endX\n",
    "        self.endY = endY\n",
    "        self.earliest = earliest\n",
    "        self.latest = latest\n",
    "        self.number = number\n",
    "        self.satisfied = False\n",
    "    \n",
    "    def timeCost():\n",
    "        return np.abs(startX - endX) + np.abs(startY - endY)\n",
    "    \n",
    "    def isPossible(car):\n",
    "        distance = car.distance(self)\n",
    "        earliest = car.lastTime() + distance\n",
    "        latest = earliest + self.timeCost()\n",
    "        \n",
    "        return (self.latest > latest)\n",
    "\n",
    "class Car:\n",
    "    def __init__(self, number):\n",
    "        self.number = number\n",
    "        self.rides = []\n",
    "        self.timestamps = [Timestamp(x=0, y=0, t=0)]\n",
    "\n",
    "    def print(self, output_file):\n",
    "        print(len(self.rides), end=' ', file=output_file)\n",
    "        for ride in self.rides:\n",
    "            print(ride.number, end=' ',file=output_file)\n",
    "        print(file=output_file)\n",
    "        \n",
    "    def distance(self, rideRequest) :\n",
    "        ts = self.timestamps[-1]\n",
    "        x = ts[0][0]\n",
    "        y = ts[0][1]\n",
    "        x2 = rideRequest.startX\n",
    "        y2 = rideRequest.startY\n",
    "        return np.abs(x - x2) + np.abs(y- y2)\n",
    "    \n",
    "    def lastTime(self):\n",
    "        return self.timestamps[-1].t\n",
    "        \n",
    "    \n",
    "\n"
   ]
  },
  {
   "cell_type": "code",
   "execution_count": 41,
   "metadata": {},
   "outputs": [],
   "source": [
    "def traitement(file_example):\n",
    "    rides = []\n",
    "    with open('input/' + file_example + '.in') as input_file:\n",
    "        rows, columns, car_number, ride_number, bonus_value, steps = [int(i) for i in input_file.readline().split(' ')]\n",
    "        \n",
    "        # Rides\n",
    "        number = 0\n",
    "        for line in input_file.readlines():\n",
    "            startX, startY, endX, endY, earliest, latest = [int(i) for i in line.split(' ')]\n",
    "            rides.append(RideRequest(startX, startY, endX, endY, earliest, latest, number))\n",
    "            number += 1\n",
    "\n",
    "        rides.sort(key=lambda x: x.earliest)\n",
    "        \n",
    "\n",
    "        # Cars\n",
    "        cars = []\n",
    "        number = 1\n",
    "        for i in range(car_number):\n",
    "            cars.append(Car(number))\n",
    "            number += 1\n",
    "        nb_cars = len(cars)\n",
    "\n",
    "    # --------- Compute ----------\n",
    "\n",
    "    current_step = 0\n",
    "    while current_step < steps:\n",
    "        current_rides = rides[(current_step * nb_cars):((current_step + 1) * nb_cars)]\n",
    "\n",
    "        car_index = 0\n",
    "        for current_ride in current_rides:\n",
    "            cars[car_index].rides.append(current_ride)\n",
    "            car_index += 1\n",
    "\n",
    "        current_step += 1\n",
    "\n",
    "    # --------- Output ----------\n",
    "\n",
    "    with open('output/' + file_example + '.out', 'w') as output_file:\n",
    "        for car in cars:\n",
    "            # Print on console and in file\n",
    "            car.print(sys.stdout)\n",
    "            car.print(output_file)"
   ]
  },
  {
   "cell_type": "code",
   "execution_count": 33,
   "metadata": {},
   "outputs": [
    {
     "name": "stdout",
     "output_type": "stream",
     "text": [
      "bonjour\n",
      "bonjour\n",
      "bonjour\n",
      "bonjour\n",
      "bonjour\n"
     ]
    }
   ],
   "source": [
    "\n",
    "for file_example in ['a_example', 'b_should_be_easy', 'c_no_hurry', 'd_metropolis', 'e_high_bonus']:\n",
    "#     traitement(file_example)\n",
    "    print(\"bonjour\")\n"
   ]
  },
  {
   "cell_type": "code",
   "execution_count": 42,
   "metadata": {},
   "outputs": [
    {
     "name": "stdout",
     "output_type": "stream",
     "text": [
      "2 1 0 \n",
      "1 2 \n"
     ]
    }
   ],
   "source": [
    "file_example = 'a_example'\n",
    "traitement(file_example)"
   ]
  },
  {
   "cell_type": "code",
   "execution_count": 55,
   "metadata": {},
   "outputs": [],
   "source": [
    "file_example = 'c_no_hurry'\n",
    "rides = []\n",
    "\n",
    "with open('input/' + file_example + '.in') as input_file:\n",
    "    rows, columns, car_number, ride_number, bonus_value, steps = [int(i) for i in input_file.readline().split(' ')]        \n",
    "    # Rides\n",
    "    number = 0\n",
    "    for line in input_file.readlines():\n",
    "        startX, startY, endX, endY, earliest, latest = [int(i) for i in line.split(' ')]\n",
    "        rides.append(RideRequest(startX, startY, endX, endY, earliest, latest, number))\n",
    "        number += 1\n",
    "    rides.sort(key=lambda x: x.earliest)        \n",
    "    # Cars\n",
    "    cars = []\n",
    "    number = 1\n",
    "    for i in range(car_number):\n",
    "        cars.append(Car(number))\n",
    "        number += 1\n",
    "    nb_cars = len(cars)\n",
    "    \n",
    "# --------- Compute ----------\n"
   ]
  },
  {
   "cell_type": "code",
   "execution_count": 56,
   "metadata": {},
   "outputs": [],
   "source": [
    "# current_step = 0\n",
    "\n",
    "# while current_step < steps:\n",
    "#     current_rides = rides[(current_step * nb_cars):((current_step + 1) * nb_cars)]\n",
    "#     car_index = 0\n",
    "#     for current_ride in current_rides:\n",
    "#         cars[car_index].rides.append(current_ride)\n",
    "#         car_index += 1\n",
    "#     current_step += 1\n",
    "    \n",
    "# # --------- Output ----------\n",
    "# with open('output/' + file_example + '.out', 'w') as output_file:\n",
    "#     for car in cars:\n",
    "#         # Print on console and in file\n",
    "#         car.print(sys.stdout)\n",
    "#         car.print(output_file)"
   ]
  },
  {
   "cell_type": "code",
   "execution_count": 54,
   "metadata": {
    "collapsed": true
   },
   "outputs": [
    {
     "name": "stdout",
     "output_type": "stream",
     "text": [
      "<__main__.Car object at 0x000002C82A71F198>\n",
      "<__main__.Car object at 0x000002C82A74D278>\n",
      "<__main__.Car object at 0x000002C82A74D198>\n",
      "<__main__.Car object at 0x000002C82A74D828>\n",
      "<__main__.Car object at 0x000002C82A74D240>\n",
      "<__main__.Car object at 0x000002C82A74D2B0>\n",
      "<__main__.Car object at 0x000002C82A74D208>\n",
      "<__main__.Car object at 0x000002C82A74D908>\n",
      "<__main__.Car object at 0x000002C82A74D940>\n",
      "<__main__.Car object at 0x000002C82A74D978>\n",
      "<__main__.Car object at 0x000002C82A74D048>\n",
      "<__main__.Car object at 0x000002C82A74D9E8>\n",
      "<__main__.Car object at 0x000002C82A74DA20>\n",
      "<__main__.Car object at 0x000002C82A74DA58>\n",
      "<__main__.Car object at 0x000002C82A74D0F0>\n",
      "<__main__.Car object at 0x000002C82A74DAC8>\n",
      "<__main__.Car object at 0x000002C82A74DB00>\n",
      "<__main__.Car object at 0x000002C82A74DB38>\n",
      "<__main__.Car object at 0x000002C82A74DB70>\n",
      "<__main__.Car object at 0x000002C82A74DBA8>\n",
      "<__main__.Car object at 0x000002C82A74DBE0>\n",
      "<__main__.Car object at 0x000002C82A74DC18>\n",
      "<__main__.Car object at 0x000002C82A74DC50>\n",
      "<__main__.Car object at 0x000002C82A74DC88>\n",
      "<__main__.Car object at 0x000002C82A74DCC0>\n",
      "<__main__.Car object at 0x000002C82A74DCF8>\n",
      "<__main__.Car object at 0x000002C82A74DD30>\n",
      "<__main__.Car object at 0x000002C82A74DD68>\n",
      "<__main__.Car object at 0x000002C82A74DDA0>\n",
      "<__main__.Car object at 0x000002C82A74DDD8>\n",
      "<__main__.Car object at 0x000002C82A74DE10>\n",
      "<__main__.Car object at 0x000002C82A74DE48>\n",
      "<__main__.Car object at 0x000002C82A74DE80>\n",
      "<__main__.Car object at 0x000002C82A74DEB8>\n",
      "<__main__.Car object at 0x000002C82A74DEF0>\n",
      "<__main__.Car object at 0x000002C82A74DF28>\n",
      "<__main__.Car object at 0x000002C82A74DF60>\n",
      "<__main__.Car object at 0x000002C82A74DF98>\n",
      "<__main__.Car object at 0x000002C82A74DFD0>\n",
      "<__main__.Car object at 0x000002C82A74D358>\n",
      "<__main__.Car object at 0x000002C82A74D6D8>\n",
      "<__main__.Car object at 0x000002C82A74D7B8>\n",
      "<__main__.Car object at 0x000002C82A74D9B0>\n",
      "<__main__.Car object at 0x000002C82A74DA90>\n",
      "<__main__.Car object at 0x000002C82A758390>\n",
      "<__main__.Car object at 0x000002C82A7583C8>\n",
      "<__main__.Car object at 0x000002C82A758400>\n",
      "<__main__.Car object at 0x000002C82A758438>\n",
      "<__main__.Car object at 0x000002C82A758470>\n",
      "<__main__.Car object at 0x000002C82A7584A8>\n",
      "<__main__.Car object at 0x000002C82A7584E0>\n",
      "<__main__.Car object at 0x000002C82A758518>\n",
      "<__main__.Car object at 0x000002C82A758550>\n",
      "<__main__.Car object at 0x000002C82A758588>\n",
      "<__main__.Car object at 0x000002C82A7585C0>\n",
      "<__main__.Car object at 0x000002C82A7585F8>\n",
      "<__main__.Car object at 0x000002C82A758630>\n",
      "<__main__.Car object at 0x000002C82A758668>\n",
      "<__main__.Car object at 0x000002C82A7586A0>\n",
      "<__main__.Car object at 0x000002C82A7586D8>\n",
      "<__main__.Car object at 0x000002C82A758710>\n",
      "<__main__.Car object at 0x000002C82A758748>\n",
      "<__main__.Car object at 0x000002C82A758780>\n",
      "<__main__.Car object at 0x000002C82A7587B8>\n",
      "<__main__.Car object at 0x000002C82A7587F0>\n",
      "<__main__.Car object at 0x000002C82A758828>\n",
      "<__main__.Car object at 0x000002C82A758860>\n",
      "<__main__.Car object at 0x000002C82A758898>\n",
      "<__main__.Car object at 0x000002C82A7588D0>\n",
      "<__main__.Car object at 0x000002C82A758908>\n",
      "<__main__.Car object at 0x000002C82A758940>\n",
      "<__main__.Car object at 0x000002C82A758978>\n",
      "<__main__.Car object at 0x000002C82A758278>\n",
      "<__main__.Car object at 0x000002C82A7589E8>\n",
      "<__main__.Car object at 0x000002C82A758A20>\n",
      "<__main__.Car object at 0x000002C82A758A58>\n",
      "<__main__.Car object at 0x000002C82A758A90>\n",
      "<__main__.Car object at 0x000002C82A758AC8>\n",
      "<__main__.Car object at 0x000002C82A758B00>\n",
      "<__main__.Car object at 0x000002C82A758B38>\n",
      "<__main__.Car object at 0x000002C82A758B70>\n",
      "<__main__.Car object at 0x000002C82A758BA8>\n",
      "<__main__.Car object at 0x000002C82A758BE0>\n",
      "<__main__.Car object at 0x000002C82A758C18>\n",
      "<__main__.Car object at 0x000002C82A758C50>\n",
      "<__main__.Car object at 0x000002C82A758C88>\n",
      "<__main__.Car object at 0x000002C82A758CC0>\n",
      "<__main__.Car object at 0x000002C82A758CF8>\n",
      "<__main__.Car object at 0x000002C82A758D30>\n",
      "<__main__.Car object at 0x000002C82A758D68>\n",
      "<__main__.Car object at 0x000002C82A758DA0>\n",
      "<__main__.Car object at 0x000002C82A758DD8>\n",
      "<__main__.Car object at 0x000002C82A758E10>\n",
      "<__main__.Car object at 0x000002C82A758E48>\n",
      "<__main__.Car object at 0x000002C82A758E80>\n",
      "<__main__.Car object at 0x000002C82A758EB8>\n",
      "<__main__.Car object at 0x000002C82A758EF0>\n",
      "<__main__.Car object at 0x000002C82A758F28>\n",
      "<__main__.Car object at 0x000002C82A758F60>\n",
      "<__main__.Car object at 0x000002C82A758F98>\n"
     ]
    }
   ],
   "source": [
    "for car in cars :\n",
    "    print(car)\n",
    "    for ride in rides :\n",
    "        "
   ]
  },
  {
   "cell_type": "code",
   "execution_count": null,
   "metadata": {},
   "outputs": [],
   "source": []
  }
 ],
 "metadata": {
  "kernelspec": {
   "display_name": "Python 3",
   "language": "python",
   "name": "python3"
  },
  "language_info": {
   "codemirror_mode": {
    "name": "ipython",
    "version": 3
   },
   "file_extension": ".py",
   "mimetype": "text/x-python",
   "name": "python",
   "nbconvert_exporter": "python",
   "pygments_lexer": "ipython3",
   "version": "3.6.4"
  }
 },
 "nbformat": 4,
 "nbformat_minor": 2
}
