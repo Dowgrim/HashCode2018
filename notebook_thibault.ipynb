{
 "cells": [
  {
   "cell_type": "code",
   "execution_count": 1,
   "metadata": {},
   "outputs": [],
   "source": [
    "import scipy"
   ]
  },
  {
   "cell_type": "code",
   "execution_count": 2,
   "metadata": {},
   "outputs": [],
   "source": [
    "with open(\"a_example.in\") as f:\n",
    "    content = f.readlines()"
   ]
  },
  {
   "cell_type": "code",
   "execution_count": 3,
   "metadata": {},
   "outputs": [
    {
     "data": {
      "text/plain": [
       "['3 4 2 3 2 10\\n', '0 0 1 3 2 9\\n', '1 2 1 0 0 9\\n', '2 0 2 2 0 9\\n']"
      ]
     },
     "execution_count": 3,
     "metadata": {},
     "output_type": "execute_result"
    }
   ],
   "source": [
    "content"
   ]
  },
  {
   "cell_type": "code",
   "execution_count": 5,
   "metadata": {},
   "outputs": [],
   "source": [
    "class RideRequest:\n",
    "    def __init__(self, startX, startY, endX, endY, earliest, latest, number):\n",
    "        self.startX = startX\n",
    "        self.startY = startY\n",
    "        self.endX = endX\n",
    "        self.endY = endY\n",
    "        self.earliest = earliest\n",
    "        self.latest = latest\n",
    "        self.number = number"
   ]
  },
  {
   "cell_type": "code",
   "execution_count": 7,
   "metadata": {},
   "outputs": [],
   "source": [
    "class Car:\n",
    "    def __init__(self, number):\n",
    "        self.number = number\n",
    "        self.rides = []\n",
    "        self.positions = [[0,0]]\n",
    "        self.positionstime = [0]\n",
    "\n",
    "    def print(self):\n",
    "        print(self.number, end=' ')\n",
    "        for ride in self.rides:\n",
    "            print(ride.number, end=' ')\n",
    "        print()"
   ]
  },
  {
   "cell_type": "code",
   "execution_count": 9,
   "metadata": {},
   "outputs": [],
   "source": [
    "rides = []\n",
    "with open('a_example.in') as file:\n",
    "    rows, columns, car_number, ride_number, bonus_value, steps = [int(i) for i in file.readline().split(' ')]\n",
    "    number = 0\n",
    "    for line in file.readlines():\n",
    "        startX, startY, endX, endY, earliest, latest = [int(i) for i in line.split(' ')]\n",
    "        rides.append(RideRequest(startX, startY, endX, endY,earliest,latest, number) )\n",
    "        number += 1\n",
    "    cars = []\n",
    "    number = 1\n",
    "    for i in range(car_number):\n",
    "        cars.append(Car(number))\n",
    "        number += 1"
   ]
  },
  {
   "cell_type": "code",
   "execution_count": 12,
   "metadata": {},
   "outputs": [
    {
     "data": {
      "text/plain": [
       "0"
      ]
     },
     "execution_count": 12,
     "metadata": {},
     "output_type": "execute_result"
    }
   ],
   "source": [
    "rides[0].startX"
   ]
  },
  {
   "cell_type": "code",
   "execution_count": 14,
   "metadata": {},
   "outputs": [
    {
     "data": {
      "text/plain": [
       "2"
      ]
     },
     "execution_count": 14,
     "metadata": {},
     "output_type": "execute_result"
    }
   ],
   "source": [
    "len(cars)"
   ]
  },
  {
   "cell_type": "code",
   "execution_count": 15,
   "metadata": {},
   "outputs": [
    {
     "ename": "SyntaxError",
     "evalue": "invalid syntax (<ipython-input-15-d9fd3e135909>, line 1)",
     "output_type": "error",
     "traceback": [
      "\u001b[1;36m  File \u001b[1;32m\"<ipython-input-15-d9fd3e135909>\"\u001b[1;36m, line \u001b[1;32m1\u001b[0m\n\u001b[1;33m    for ridein rides :\u001b[0m\n\u001b[1;37m                   ^\u001b[0m\n\u001b[1;31mSyntaxError\u001b[0m\u001b[1;31m:\u001b[0m invalid syntax\n"
     ]
    }
   ],
   "source": [
    "for ride in rides :\n",
    "    "
   ]
  },
  {
   "cell_type": "code",
   "execution_count": null,
   "metadata": {},
   "outputs": [],
   "source": []
  }
 ],
 "metadata": {
  "kernelspec": {
   "display_name": "Python 3",
   "language": "python",
   "name": "python3"
  },
  "language_info": {
   "codemirror_mode": {
    "name": "ipython",
    "version": 3
   },
   "file_extension": ".py",
   "mimetype": "text/x-python",
   "name": "python",
   "nbconvert_exporter": "python",
   "pygments_lexer": "ipython3",
   "version": "3.6.4"
  }
 },
 "nbformat": 4,
 "nbformat_minor": 2
}
